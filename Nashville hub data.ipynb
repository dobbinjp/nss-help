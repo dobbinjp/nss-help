{
 "cells": [
  {
   "cell_type": "code",
   "execution_count": 1,
   "metadata": {},
   "outputs": [],
   "source": [
    "import pandas as pd\n",
    "import matplotlib.pyplot as plt\n",
    "import seaborn as sns\n",
    "import sqlite3 as sql"
   ]
  },
  {
   "cell_type": "code",
   "execution_count": 2,
   "metadata": {},
   "outputs": [],
   "source": [
    "hub = pd.read_csv('C:\\\\Users\\\\jimmy\\\\Documents\\\\NSS_Analytics_Jumpstart\\\\data\\\\hubNashville_2018.csv')"
   ]
  },
  {
   "cell_type": "code",
   "execution_count": 3,
   "metadata": {},
   "outputs": [],
   "source": [
    "hub = hub.rename(columns={'Request #':'request_id', \n",
    "                    'Status':'status', \n",
    "                    'Request Type':'request_type', \n",
    "                    'Subrequest Type':'subrequest_type',\n",
    "                    'Additional Subrequest Type':'add_subrequest_type', \n",
    "                    'Date / Time Opened':'opened',\n",
    "                    'Date / Time Closed':'closed', \n",
    "                    'Request Origin':'origin', \n",
    "                    'Zipcode':'zipcode', \n",
    "                    'Latitude':'lat',\n",
    "                    'Longitude':'lng'})"
   ]
  },
  {
   "cell_type": "code",
   "execution_count": 14,
   "metadata": {},
   "outputs": [
    {
     "data": {
      "text/plain": [
       "(80866, 11)"
      ]
     },
     "execution_count": 14,
     "metadata": {},
     "output_type": "execute_result"
    }
   ],
   "source": [
    "# drop where closed column values are missing, count the number of records\n",
    "hub = hub.dropna(subset='closed')\n",
    "hub.shape"
   ]
  },
  {
   "cell_type": "code",
   "execution_count": 10,
   "metadata": {},
   "outputs": [],
   "source": [
    "# convert opened and closed to datetime format\n",
    "hub.opened = pd.to_datetime(hub.opened, format= \"%Y-%m-%d %H:%M:%S\")\n",
    "hub.closed = pd.to_datetime(hub.closed, format= \"%m/%d/%Y %I:%M:%S %p\")"
   ]
  },
  {
   "cell_type": "code",
   "execution_count": 19,
   "metadata": {},
   "outputs": [],
   "source": [
    "# create a column resolution_time to store how long the request was open\n",
    "hub['resolution_time'] = hub.closed - hub.opened"
   ]
  },
  {
   "cell_type": "code",
   "execution_count": 27,
   "metadata": {},
   "outputs": [
    {
     "data": {
      "text/plain": [
       "(288, 12)"
      ]
     },
     "execution_count": 27,
     "metadata": {},
     "output_type": "execute_result"
    }
   ],
   "source": [
    "# how many records were open for longer than a year, 288?\n",
    "hub[hub.resolution_time > pd.Timedelta(days=365)].shape\n"
   ]
  },
  {
   "cell_type": "code",
   "execution_count": 29,
   "metadata": {},
   "outputs": [
    {
     "data": {
      "text/plain": [
       "request_type\n",
       "Streets, Roads & Sidewalks    159\n",
       "Property Violations            73\n",
       "Other                          14\n",
       "Public Safety                  14\n",
       "Electric & Water General       10\n",
       "Trash, Recycling & Litter       9\n",
       "Education & Libraries           5\n",
       "Planning & Zoning               2\n",
       "Social Services & Housing       2\n",
       "Name: count, dtype: int64"
      ]
     },
     "execution_count": 29,
     "metadata": {},
     "output_type": "execute_result"
    }
   ],
   "source": [
    "# what was the most common request type open for more than a year? 'streets, roads & sidewalks' 159 records\n",
    "hub[hub.resolution_time > pd.Timedelta(days=365)].value_counts(subset='request_type')"
   ]
  },
  {
   "cell_type": "code",
   "execution_count": 31,
   "metadata": {},
   "outputs": [],
   "source": [
    "# save the records longer than a year to a new dataframe, slow_to_resolve\n",
    "slow_to_resolve = hub[hub.resolution_time > pd.Timedelta(days=365)]"
   ]
  },
  {
   "cell_type": "code",
   "execution_count": 33,
   "metadata": {},
   "outputs": [],
   "source": [
    "# Create a new resolution_time_hours column by dividing the resolution_time column by pd.Timedelta(hours = 1).\n",
    "\n",
    "hub['resolution_time_hours'] = hub.resolution_time / pd.Timedelta(hours=1)"
   ]
  },
  {
   "cell_type": "code",
   "execution_count": 37,
   "metadata": {},
   "outputs": [
    {
     "data": {
      "text/plain": [
       "count    80866.000000\n",
       "mean       352.098805\n",
       "std       1038.193432\n",
       "min          0.000000\n",
       "25%         25.973958\n",
       "50%         73.271944\n",
       "75%        203.533333\n",
       "max      22514.371111\n",
       "Name: resolution_time_hours, dtype: float64"
      ]
     },
     "execution_count": 37,
     "metadata": {},
     "output_type": "execute_result"
    }
   ],
   "source": [
    "hub.resolution_time_hours.describe()"
   ]
  },
  {
   "cell_type": "code",
   "execution_count": 49,
   "metadata": {},
   "outputs": [
    {
     "data": {
      "text/plain": [
       "<Axes: ylabel='Frequency'>"
      ]
     },
     "execution_count": 49,
     "metadata": {},
     "output_type": "execute_result"
    },
    {
     "data": {
      "image/png": "[encoded data removed]",
      "text/plain": [
       "<Figure size 640x480 with 1 Axes>"
      ]
     },
     "metadata": {},
     "output_type": "display_data"
    }
   ],
   "source": [
    "hub.resolution_time_hours.plot.hist(bins=30)"
   ]
  },
  {
   "cell_type": "code",
   "execution_count": 66,
   "metadata": {},
   "outputs": [],
   "source": [
    "# create new dataframe, streets_median, to store median resolution time by zip code\n",
    "streets_median = hub[hub.request_type == 'Streets, Roads & Sidewalks'].groupby('zipcode').resolution_time_hours.median().reset_index()"
   ]
  },
  {
   "cell_type": "code",
   "execution_count": 67,
   "metadata": {},
   "outputs": [
    {
     "name": "stdout",
     "output_type": "stream",
     "text": [
      "<class 'pandas.core.frame.DataFrame'>\n",
      "RangeIndex: 37 entries, 0 to 36\n",
      "Data columns (total 2 columns):\n",
      " #   Column                 Non-Null Count  Dtype  \n",
      "---  ------                 --------------  -----  \n",
      " 0   zipcode                37 non-null     object \n",
      " 1   resolution_time_hours  37 non-null     float64\n",
      "dtypes: float64(1), object(1)\n",
      "memory usage: 724.0+ bytes\n"
     ]
    }
   ],
   "source": [
    "streets_median.info()"
   ]
  }
 ],
 "metadata": {
  "kernelspec": {
   "display_name": "base",
   "language": "python",
   "name": "python3"
  },
  "language_info": {
   "codemirror_mode": {
    "name": "ipython",
    "version": 3
   },
   "file_extension": ".py",
   "mimetype": "text/x-python",
   "name": "python",
   "nbconvert_exporter": "python",
   "pygments_lexer": "ipython3",
   "version": "3.11.7"
  }
 },
 "nbformat": 4,
 "nbformat_minor": 2
}
